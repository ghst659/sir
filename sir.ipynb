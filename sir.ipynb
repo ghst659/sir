{
 "cells": [
  {
   "cell_type": "markdown",
   "id": "064478de",
   "metadata": {},
   "source": [
    "# SIR Exploration\n",
    "We import the necessary modules"
   ]
  },
  {
   "cell_type": "code",
   "execution_count": 2,
   "id": "97c87fda",
   "metadata": {},
   "outputs": [],
   "source": [
    "import ipywidgets\n",
    "from matplotlib import pyplot as plt\n",
    "import sir"
   ]
  },
  {
   "cell_type": "markdown",
   "id": "1a22cc05",
   "metadata": {},
   "source": [
    "Define model parameters"
   ]
  },
  {
   "cell_type": "code",
   "execution_count": 7,
   "id": "7e71add9",
   "metadata": {},
   "outputs": [
    {
     "data": {
      "application/vnd.jupyter.widget-view+json": {
       "model_id": "b36a06ed72294cd9a704a82f6097c36b",
       "version_major": 2,
       "version_minor": 0
      },
      "text/plain": [
       "FloatSlider(value=0.001, description='i0', max=0.5, step=0.001)"
      ]
     },
     "metadata": {},
     "output_type": "display_data"
    },
    {
     "data": {
      "application/vnd.jupyter.widget-view+json": {
       "model_id": "f235c0adc6e34f4eb5274ab119cab6e0",
       "version_major": 2,
       "version_minor": 0
      },
      "text/plain": [
       "FloatSlider(value=0.25, description='alpha', max=1.0, step=0.05)"
      ]
     },
     "metadata": {},
     "output_type": "display_data"
    },
    {
     "data": {
      "application/vnd.jupyter.widget-view+json": {
       "model_id": "f121103e246f45c6b4e9aee308520e20",
       "version_major": 2,
       "version_minor": 0
      },
      "text/plain": [
       "FloatSlider(value=0.1, description='beta', max=1.0, step=0.05)"
      ]
     },
     "metadata": {},
     "output_type": "display_data"
    },
    {
     "data": {
      "application/vnd.jupyter.widget-view+json": {
       "model_id": "0d7d69bae68640c380b6d1967801682c",
       "version_major": 2,
       "version_minor": 0
      },
      "text/plain": [
       "FloatSlider(value=0.05, description='delta', max=1.0, step=0.05)"
      ]
     },
     "metadata": {},
     "output_type": "display_data"
    },
    {
     "data": {
      "application/vnd.jupyter.widget-view+json": {
       "model_id": "4dfa3bbb92bf4a36bf84464b10f3e2d8",
       "version_major": 2,
       "version_minor": 0
      },
      "text/plain": [
       "FloatSlider(value=0.9, description='rho', max=1.0, step=0.05)"
      ]
     },
     "metadata": {},
     "output_type": "display_data"
    },
    {
     "data": {
      "application/vnd.jupyter.widget-view+json": {
       "model_id": "2d05a3c6cfac458a8c2add1d7273aefc",
       "version_major": 2,
       "version_minor": 0
      },
      "text/plain": [
       "IntSlider(value=5, description='tau', max=20)"
      ]
     },
     "metadata": {},
     "output_type": "display_data"
    }
   ],
   "source": [
    "i0 = ipywidgets.FloatSlider(value=0.001, min=0, max=0.5, step=0.001, description=\"i0\")\n",
    "alpha = ipywidgets.FloatSlider(value=0.25, min=0, max=1, step=0.05, description=\"alpha\")\n",
    "beta = ipywidgets.FloatSlider(value=0.1, min=0, max=1, step=0.05, description=\"beta\")\n",
    "delta = ipywidgets.FloatSlider(value=0.05, min=0, max=1, step=0.05, description=\"delta\")\n",
    "rho = ipywidgets.FloatSlider(value=0.9, min=0, max=1, step=0.05, description=\"rho\")\n",
    "tau = ipywidgets.IntSlider(value=5, min=0, max=20, description=\"tau\")\n",
    "display(i0)\n",
    "display(alpha)\n",
    "display(beta)\n",
    "display(delta)\n",
    "display(rho)\n",
    "display(tau)"
   ]
  },
  {
   "cell_type": "code",
   "execution_count": 4,
   "id": "2ff4454d",
   "metadata": {},
   "outputs": [],
   "source": [
    "sir_model = sir.SIRModel(i0.value, alpha.value, beta.value)"
   ]
  },
  {
   "cell_type": "code",
   "execution_count": 5,
   "id": "46bac501",
   "metadata": {},
   "outputs": [],
   "source": [
    "sir_model.run(100)\n",
    "sir_data = sir_model.dump()"
   ]
  },
  {
   "cell_type": "code",
   "execution_count": 6,
   "id": "f4c2b9ea",
   "metadata": {},
   "outputs": [
    {
     "data": {
      "image/png": "[encoded data removed]",
      "text/plain": [
       "<Figure size 432x288 with 1 Axes>"
      ]
     },
     "metadata": {
      "needs_background": "light"
     },
     "output_type": "display_data"
    }
   ],
   "source": [
    "t = list(range(sir_model.n()))\n",
    "plt.plot(t, sir_data[\"s\"])\n",
    "plt.plot(t, sir_data[\"i\"])\n",
    "plt.plot(t, sir_data[\"r\"])\n",
    "plt.show()"
   ]
  },
  {
   "cell_type": "code",
   "execution_count": null,
   "id": "f63692bc",
   "metadata": {},
   "outputs": [],
   "source": []
  }
 ],
 "metadata": {
  "kernelspec": {
   "display_name": "Python 3 (ipykernel)",
   "language": "python",
   "name": "python3"
  },
  "language_info": {
   "codemirror_mode": {
    "name": "ipython",
    "version": 3
   },
   "file_extension": ".py",
   "mimetype": "text/x-python",
   "name": "python",
   "nbconvert_exporter": "python",
   "pygments_lexer": "ipython3",
   "version": "3.10.5"
  }
 },
 "nbformat": 4,
 "nbformat_minor": 5
}
